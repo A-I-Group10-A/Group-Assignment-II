{
 "cells": [
  {
   "cell_type": "code",
   "execution_count": null,
   "metadata": {},
   "outputs": [],
   "source": [
    "\n",
    "import panda as pd\n",
    "import random as rnd\n",
    "\n"
   ]
  },
  {
   "cell_type": "code",
   "execution_count": null,
   "metadata": {},
   "outputs": [],
   "source": [
    "dataset = pd.read_csv(\"C:\\Users\\kuive\\OneDrive\\Documents\\School\\sv_hotelmanagement.csv\")"
   ]
  },
  {
   "cell_type": "code",
   "execution_count": null,
   "metadata": {},
   "outputs": [],
   "source": [
    "print(dataset.columns.values)"
   ]
  },
  {
   "cell_type": "code",
   "execution_count": null,
   "metadata": {},
   "outputs": [],
   "source": [
    "X = df.drop('price',axis=1)\n",
    "y = df['price']"
   ]
  },
  {
   "cell_type": "code",
   "execution_count": null,
   "metadata": {},
   "outputs": [],
   "source": [
    "X_train, X_test, y_train, y_test = train_test_split(X,y,test_size=0.2,random_state=101)"
   ]
  },
  {
   "cell_type": "code",
   "execution_count": null,
   "metadata": {},
   "outputs": [],
   "source": [
    "scaler = MinMaxScaler()\n",
    "X_train = scaler.fit_transform(X_train)\n",
    "X_test = scaler.transform(X_test)\n",
    "print('Max: ',X_train.max())\n",
    "print('Min: ', X_train.min())"
   ]
  },
  {
   "cell_type": "code",
   "execution_count": null,
   "metadata": {},
   "outputs": [],
   "source": [
    "model = Sequential()\n",
    "model.add(Dense(19,activation='relu'))\n",
    "\n",
    "model.add(Dense(19,activation='relu'))\n",
    "model.add(Dense(19,activation='relu'))\n",
    "model.add(Dense(19,activation='relu'))\n",
    "\n",
    "model.add(Dense(1))\n",
    "\n",
    "model.compile(optimizer='adam',loss='mse')"
   ]
  },
  {
   "cell_type": "code",
   "execution_count": null,
   "metadata": {},
   "outputs": [],
   "source": [
    "print(model)"
   ]
  },
  {
   "cell_type": "code",
   "execution_count": null,
   "metadata": {},
   "outputs": [],
   "source": [
    "model.fit(x=X_train,y=y_train.values,\n",
    "          validation_data=(X_test,y_test.values),\n",
    "          batch_size=128,epochs=400)"
   ]
  },
  {
   "cell_type": "code",
   "execution_count": null,
   "metadata": {},
   "outputs": [],
   "source": [
    "losses = pd.DataFrame(model.history.history)\n",
    "plt.figure(figsize=(15,5))\n",
    "sns.lineplot(data=losses,lw=3)\n",
    "plt.xlabel('Epochs')\n",
    "plt.ylabel('')\n",
    "plt.title('Training Loss per Epoch')\n",
    "sns.despine()"
   ]
  },
  {
   "cell_type": "code",
   "execution_count": null,
   "metadata": {},
   "outputs": [],
   "source": [
    "predictions = model.predict(X_test)\n",
    "print('MAE: ',mean_absolute_error(y_test,predictions))\n",
    "print('MSE: ',mean_squared_error(y_test,predictions))\n",
    "print('RMSE: ',np.sqrt(mean_squared_error(y_test,predictions)))\n",
    "print('Variance Regression Score: ',explained_variance_score(y_test,predictions))\n",
    "print('\\n\\nDescriptive Statistics:\\n',df['price'].describe())"
   ]
  },
  {
   "cell_type": "code",
   "execution_count": null,
   "metadata": {},
   "outputs": [],
   "source": [
    "f, axes = plt.subplots(1, 2,figsize=(15,5))\n",
    "\n",
    "plt.scatter(y_test,predictions)\n",
    "\n",
    "plt.plot(y_test,y_test,'r')\n",
    "errors = y_test.values.reshape(6484, 1) - predictions\n",
    "sns.distplot(errors, ax=axes[0])\n",
    "sns.despine(left=True, bottom=True)\n",
    "axes[0].set(xlabel='Error', ylabel='', title='Error Histogram')\n",
    "axes[1].set(xlabel='Test True Y', ylabel='Model Predictions', title='Model Predictions vs Perfect Fit')"
   ]
  },
  {
   "cell_type": "code",
   "execution_count": null,
   "metadata": {},
   "outputs": [],
   "source": [
    "\n",
    "single_hottle = df.drop('price',axis=1).iloc[0]\n",
    "print(f'Features of new house:\\n{single_hottle}')\n",
    "# reshape the numpy array and scale the features\n",
    "single_house = scaler.transform(single_hottle.values.reshape(-1, 20))\n",
    "# run the model and get the price prediction\n",
    "print('\\nPrediction Price:',model.predict(single_hottle)[0,0])\n",
    "# original price\n",
    "print('\\nOriginal Price:',df.iloc[0]['price'])"
   ]
  }
 ],
 "metadata": {
  "kernelspec": {
   "display_name": "Python 3.10.7 64-bit",
   "language": "python",
   "name": "python3"
  },
  "language_info": {
   "codemirror_mode": {
    "name": "ipython",
    "version": 3
   },
   "file_extension": ".py",
   "mimetype": "text/x-python",
   "name": "python",
   "nbconvert_exporter": "python",
   "pygments_lexer": "ipython3",
   "version": "3.10.7"
  },
  "orig_nbformat": 4,
  "vscode": {
   "interpreter": {
    "hash": "83d042f81b2123a4c06b8291a024f07909cec3761c44a8d5b33813c2915ca341"
   }
  }
 },
 "nbformat": 4,
 "nbformat_minor": 2
}
